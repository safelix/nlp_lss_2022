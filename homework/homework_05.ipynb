{
 "cells": [
  {
   "cell_type": "markdown",
   "id": "af4f8e97",
   "metadata": {},
   "source": [
    "# HW05: Deep Learning\n",
    "\n",
    "Remember that these homework work as a completion grade. **You can skip one section without losing credit.**"
   ]
  },
  {
   "cell_type": "code",
   "execution_count": 1,
   "id": "a260d88a",
   "metadata": {},
   "outputs": [
    {
     "data": {
      "text/html": [
       "<div>\n",
       "<style scoped>\n",
       "    .dataframe tbody tr th:only-of-type {\n",
       "        vertical-align: middle;\n",
       "    }\n",
       "\n",
       "    .dataframe tbody tr th {\n",
       "        vertical-align: top;\n",
       "    }\n",
       "\n",
       "    .dataframe thead th {\n",
       "        text-align: right;\n",
       "    }\n",
       "</style>\n",
       "<table border=\"1\" class=\"dataframe\">\n",
       "  <thead>\n",
       "    <tr style=\"text-align: right;\">\n",
       "      <th></th>\n",
       "      <th>label</th>\n",
       "      <th>title</th>\n",
       "      <th>lead</th>\n",
       "      <th>text</th>\n",
       "    </tr>\n",
       "  </thead>\n",
       "  <tbody>\n",
       "    <tr>\n",
       "      <th>1794</th>\n",
       "      <td>world</td>\n",
       "      <td>Public servant backs Scrafton</td>\n",
       "      <td>PRIME Minister John Howard said he would not b...</td>\n",
       "      <td>Public servant backs Scrafton PRIME Minister J...</td>\n",
       "    </tr>\n",
       "    <tr>\n",
       "      <th>104943</th>\n",
       "      <td>world</td>\n",
       "      <td>Iran Says Nuclear Freeze Talks Must Not Last Long</td>\n",
       "      <td>TEHRAN (Reuters) - Iran reiterated Tuesday it...</td>\n",
       "      <td>Iran Says Nuclear Freeze Talks Must Not Last L...</td>\n",
       "    </tr>\n",
       "    <tr>\n",
       "      <th>89524</th>\n",
       "      <td>sport</td>\n",
       "      <td>Confident Mourinho Plans Early End to Title Race</td>\n",
       "      <td>LONDON (Reuters) - Chelsea manager Jose Mouri...</td>\n",
       "      <td>Confident Mourinho Plans Early End to Title Ra...</td>\n",
       "    </tr>\n",
       "    <tr>\n",
       "      <th>92522</th>\n",
       "      <td>world</td>\n",
       "      <td>Beach Boy Brian Wilson Has Reason to Smile at ...</td>\n",
       "      <td>&amp;lt;p&amp;gt;&amp;lt;/p&amp;gt;&amp;lt;p&amp;gt; By Angus MacSwan&amp;...</td>\n",
       "      <td>Beach Boy Brian Wilson Has Reason to Smile at ...</td>\n",
       "    </tr>\n",
       "    <tr>\n",
       "      <th>33858</th>\n",
       "      <td>sci/tech</td>\n",
       "      <td>VMware creates PC software condom</td>\n",
       "      <td>Not satisfied with its prominent position on s...</td>\n",
       "      <td>VMware creates PC software condom Not satisfie...</td>\n",
       "    </tr>\n",
       "  </tbody>\n",
       "</table>\n",
       "</div>"
      ],
      "text/plain": [
       "           label                                              title  \\\n",
       "1794       world                      Public servant backs Scrafton   \n",
       "104943     world  Iran Says Nuclear Freeze Talks Must Not Last Long   \n",
       "89524      sport   Confident Mourinho Plans Early End to Title Race   \n",
       "92522      world  Beach Boy Brian Wilson Has Reason to Smile at ...   \n",
       "33858   sci/tech                  VMware creates PC software condom   \n",
       "\n",
       "                                                     lead  \\\n",
       "1794    PRIME Minister John Howard said he would not b...   \n",
       "104943   TEHRAN (Reuters) - Iran reiterated Tuesday it...   \n",
       "89524    LONDON (Reuters) - Chelsea manager Jose Mouri...   \n",
       "92522   &lt;p&gt;&lt;/p&gt;&lt;p&gt; By Angus MacSwan&...   \n",
       "33858   Not satisfied with its prominent position on s...   \n",
       "\n",
       "                                                     text  \n",
       "1794    Public servant backs Scrafton PRIME Minister J...  \n",
       "104943  Iran Says Nuclear Freeze Talks Must Not Last L...  \n",
       "89524   Confident Mourinho Plans Early End to Title Ra...  \n",
       "92522   Beach Boy Brian Wilson Has Reason to Smile at ...  \n",
       "33858   VMware creates PC software condom Not satisfie...  "
      ]
     },
     "execution_count": 1,
     "metadata": {},
     "output_type": "execute_result"
    }
   ],
   "source": [
    "#Import the AG news dataset (same as hw01)\n",
    "#Download them from here \n",
    "#!wget https://raw.githubusercontent.com/mhjabreel/CharCnn_Keras/master/data/ag_news_csv/train.csv\n",
    "\n",
    "import pandas as pd\n",
    "import nltk\n",
    "df = pd.read_csv('train.csv')\n",
    "\n",
    "df.columns = [\"label\", \"title\", \"lead\"]\n",
    "label_map = {1:\"world\", 2:\"sport\", 3:\"business\", 4:\"sci/tech\"}\n",
    "def replace_label(x):\n",
    "\treturn label_map[x]\n",
    "df[\"label\"] = df[\"label\"].apply(replace_label) \n",
    "df[\"text\"] = df[\"title\"] + \" \" + df[\"lead\"]\n",
    "df = df.sample(n=10000) # # only use 10K datapoints\n",
    "df.head()"
   ]
  },
  {
   "cell_type": "code",
   "execution_count": 2,
   "id": "fb10d969",
   "metadata": {},
   "outputs": [
    {
     "name": "stdout",
     "output_type": "stream",
     "text": [
      "Class 1 ratio: 0.250\n"
     ]
    }
   ],
   "source": [
    "##TODO create a new variable \"business\" that takes value 1 if the label is business and 0 otherwise\n",
    "df[\"business\"] = df[\"label\"].apply(lambda lbl: int(lbl==\"business\"))\n",
    "df[df[\"business\"] == 1].head()\n",
    "\n",
    "ratios = df['business'].value_counts(normalize=True)\n",
    "print(f'Class 1 ratio: {ratios[1]:.3f}')"
   ]
  },
  {
   "cell_type": "code",
   "execution_count": 3,
   "id": "7f9939fb",
   "metadata": {},
   "outputs": [
    {
     "name": "stderr",
     "output_type": "stream",
     "text": [
      "/home/felix/miniconda3/envs/nlp_lss/lib/python3.8/site-packages/tqdm/auto.py:22: TqdmWarning: IProgress not found. Please update jupyter and ipywidgets. See https://ipywidgets.readthedocs.io/en/stable/user_install.html\n",
      "  from .autonotebook import tqdm as notebook_tqdm\n",
      "2022-04-15 17:54:28.181172: W tensorflow/stream_executor/platform/default/dso_loader.cc:64] Could not load dynamic library 'libcudart.so.11.0'; dlerror: libcudart.so.11.0: cannot open shared object file: No such file or directory\n",
      "2022-04-15 17:54:28.181265: I tensorflow/stream_executor/cuda/cudart_stub.cc:29] Ignore above cudart dlerror if you do not have a GPU set up on your machine.\n"
     ]
    },
    {
     "name": "stdout",
     "output_type": "stream",
     "text": [
      "(10000, 21055)\n"
     ]
    }
   ],
   "source": [
    "import spacy\n",
    "nlp = spacy.load('en_core_web_sm')\n",
    "from sklearn.feature_extraction.text import CountVectorizer\n",
    "\n",
    "##TODO pre-process text as you did in HW02\n",
    "##TODO vectorize the pre-processed text using CountVectorizer\n",
    "##Alternatively, use the output from HW02 if you saved it\n",
    "\n",
    "try:\n",
    "    X = pd.read_pickle('X_countvec.pkl')\n",
    "except FileNotFoundError:\n",
    "\n",
    "    ##TODO pre-process text as you did in HW02\n",
    "    def tokenize(str):\n",
    "        new_str = ''\n",
    "        for w in nlp(str):\n",
    "            if not w.is_stop and not w.is_punct and not w.is_digit:\n",
    "                new_str += w.lemma_.lower() + ' ' \n",
    "        return new_str\n",
    "\n",
    "    df[\"toks\"] = df[\"text\"].apply(tokenize)\n",
    "    print(df[\"toks\"].head())\n",
    "\n",
    "    ##TODO vectorize the pre-processed text using CountVectorizer\n",
    "    vectorizer = CountVectorizer()\n",
    "    X = vectorizer.fit_transform(df[\"toks\"])\n",
    "    pd.to_pickle(X, 'X_countvec.pkl')\n",
    "\n",
    "\n",
    "# load pkl\n",
    "X = pd.read_pickle('X_countvec.pkl')\n",
    "print(X.shape)"
   ]
  },
  {
   "cell_type": "markdown",
   "id": "d0a6bc62",
   "metadata": {},
   "source": [
    "## MLP"
   ]
  },
  {
   "cell_type": "markdown",
   "id": "9b6e66fc",
   "metadata": {},
   "source": [
    "Your goal here is to use features from the Vectorized text to predict whether the snippet is from a business article."
   ]
  },
  {
   "cell_type": "code",
   "execution_count": 4,
   "id": "0b718ae5",
   "metadata": {},
   "outputs": [
    {
     "name": "stderr",
     "output_type": "stream",
     "text": [
      "2022-04-15 17:54:31.337131: W tensorflow/stream_executor/platform/default/dso_loader.cc:64] Could not load dynamic library 'libcuda.so.1'; dlerror: libcuda.so.1: cannot open shared object file: No such file or directory\n",
      "2022-04-15 17:54:31.337214: W tensorflow/stream_executor/cuda/cuda_driver.cc:269] failed call to cuInit: UNKNOWN ERROR (303)\n",
      "2022-04-15 17:54:31.337240: I tensorflow/stream_executor/cuda/cuda_diagnostics.cc:156] kernel driver does not appear to be running on this host (Henry): /proc/driver/nvidia/version does not exist\n",
      "2022-04-15 17:54:31.337773: I tensorflow/core/platform/cpu_feature_guard.cc:151] This TensorFlow binary is optimized with oneAPI Deep Neural Network Library (oneDNN) to use the following CPU instructions in performance-critical operations:  AVX2 FMA\n",
      "To enable them in other operations, rebuild TensorFlow with the appropriate compiler flags.\n"
     ]
    },
    {
     "name": "stdout",
     "output_type": "stream",
     "text": [
      "Model: \"sequential\"\n",
      "_________________________________________________________________\n",
      " Layer (type)                Output Shape              Param #   \n",
      "=================================================================\n",
      " dense (Dense)               (None, 500)               10528000  \n",
      "                                                                 \n",
      " dropout (Dropout)           (None, 500)               0         \n",
      "                                                                 \n",
      " dense_1 (Dense)             (None, 500)               250500    \n",
      "                                                                 \n",
      " dropout_1 (Dropout)         (None, 500)               0         \n",
      "                                                                 \n",
      " dense_2 (Dense)             (None, 500)               250500    \n",
      "                                                                 \n",
      " dropout_2 (Dropout)         (None, 500)               0         \n",
      "                                                                 \n",
      " dense_3 (Dense)             (None, 1)                 501       \n",
      "                                                                 \n",
      "=================================================================\n",
      "Total params: 11,029,501\n",
      "Trainable params: 11,029,501\n",
      "Non-trainable params: 0\n",
      "_________________________________________________________________\n"
     ]
    }
   ],
   "source": [
    "from keras.models import Sequential\n",
    "from keras.layers import Dense\n",
    "from keras.layers import Dropout\n",
    "from keras.callbacks import EarlyStopping\n",
    "\n",
    "## TODO build a MLP model with at least 2 hidden layers with ReLU activation, followed by dropout and an output layer with sigmoid activation\n",
    "\n",
    "model = Sequential()                        # create a sequential model\n",
    "model.add(Dense(500,                        # output neurons in inputlayer       \n",
    "          input_dim=X.shape[1],             # number of inputs\n",
    "          activation='relu'))               # activation function\n",
    "model.add(Dropout(0.3))                     # Dropout 50%\n",
    "model.add(Dense(500, activation='relu'))    # hidden layer 1\n",
    "model.add(Dropout(0.3))                     # Dropout 50%\n",
    "model.add(Dense(500, activation='relu'))     # hidden layer 2\n",
    "model.add(Dropout(0.5))                     # Dropout 50%\n",
    "model.add(Dense(1, activation='sigmoid'))   # output layer\n",
    "model.summary()\n",
    "\n",
    "## TODO compile the model\n",
    "model.compile(loss='binary_crossentropy',   # cost function\n",
    "                optimizer='adam',           # use adam as the optimizer\n",
    "                metrics=['accuracy'])       # compute accuracy, for scoring"
   ]
  },
  {
   "cell_type": "code",
   "execution_count": 5,
   "id": "36169b9e",
   "metadata": {},
   "outputs": [
    {
     "name": "stdout",
     "output_type": "stream",
     "text": [
      "Epoch 1/10\n"
     ]
    },
    {
     "name": "stderr",
     "output_type": "stream",
     "text": [
      "2022-04-15 17:54:32.531688: W tensorflow/core/framework/cpu_allocator_impl.cc:82] Allocation of 1347520000 exceeds 10% of free system memory.\n"
     ]
    },
    {
     "name": "stdout",
     "output_type": "stream",
     "text": [
      "250/250 [==============================] - 29s 114ms/step - loss: 0.5799 - accuracy: 0.7492 - val_loss: 0.5699 - val_accuracy: 0.7500\n",
      "Epoch 2/10\n",
      "250/250 [==============================] - 28s 110ms/step - loss: 0.4840 - accuracy: 0.7679 - val_loss: 0.6878 - val_accuracy: 0.7330\n",
      "Epoch 3/10\n",
      "250/250 [==============================] - 27s 110ms/step - loss: 0.2006 - accuracy: 0.9214 - val_loss: 1.1721 - val_accuracy: 0.7075\n",
      "Epoch 4/10\n",
      "250/250 [==============================] - 28s 111ms/step - loss: 0.0500 - accuracy: 0.9854 - val_loss: 1.6453 - val_accuracy: 0.6890\n"
     ]
    }
   ],
   "source": [
    "## TODO fit the model using early stopping to predict the business label\n",
    "early_stopping = EarlyStopping(monitor='val_accuracy', patience=3, restore_best_weights=True)\n",
    "model_info = model.fit(X.todense(), df[\"business\"], \n",
    "                        epochs=10,\n",
    "                        validation_split=.2,\n",
    "                        callbacks=[early_stopping]\n",
    "                    ) "
   ]
  },
  {
   "cell_type": "code",
   "execution_count": 6,
   "id": "fbb002e5",
   "metadata": {},
   "outputs": [
    {
     "data": {
      "text/plain": [
       "<matplotlib.legend.Legend at 0x7f2ec26c8460>"
      ]
     },
     "execution_count": 6,
     "metadata": {},
     "output_type": "execute_result"
    },
    {
     "data": {
      "image/png": "[encoded data removed]",
      "text/plain": [
       "<Figure size 432x288 with 1 Axes>"
      ]
     },
     "metadata": {
      "needs_background": "light"
     },
     "output_type": "display_data"
    }
   ],
   "source": [
    "import matplotlib.pyplot as plt\n",
    "# Plot performance by epoch\n",
    "plt.plot(model_info.epoch,model_info.history['accuracy'])\n",
    "plt.plot(model_info.epoch,model_info.history['val_accuracy'])\n",
    "plt.legend(['train', 'val'], loc='best')"
   ]
  },
  {
   "cell_type": "markdown",
   "id": "6958fddb",
   "metadata": {},
   "source": [
    "## Autoencoders"
   ]
  },
  {
   "cell_type": "code",
   "execution_count": null,
   "id": "64674cd4",
   "metadata": {},
   "outputs": [],
   "source": [
    "from keras import backend as K\n",
    "\n",
    "def r2(y_true, y_pred):\n",
    "    SS_res =  K.sum(K.square( y_true-y_pred )) \n",
    "    SS_tot = K.sum(K.square( y_true - K.mean(y_true) ) ) \n",
    "    return ( 1 - SS_res/(SS_tot + K.epsilon()) )\n",
    "\n",
    "##TODO build a simple autoencoder with two compression layers and two econstruction layers using ReLu\n",
    "##TODO compile and fit the model minimizing \"mean_squared_error\"\n",
    "##report r_squared during training (the function r2 defined above)\n"
   ]
  },
  {
   "cell_type": "code",
   "execution_count": null,
   "id": "6f767eee",
   "metadata": {},
   "outputs": [],
   "source": [
    "import keras\n",
    "\n",
    "##TODO compress the vectorized text (X.todense())"
   ]
  }
 ],
 "metadata": {
  "kernelspec": {
   "display_name": "Python 3 (ipykernel)",
   "language": "python",
   "name": "python3"
  },
  "language_info": {
   "codemirror_mode": {
    "name": "ipython",
    "version": 3
   },
   "file_extension": ".py",
   "mimetype": "text/x-python",
   "name": "python",
   "nbconvert_exporter": "python",
   "pygments_lexer": "ipython3",
   "version": "3.8.12"
  },
  "toc": {
   "base_numbering": 1,
   "nav_menu": {},
   "number_sections": true,
   "sideBar": true,
   "skip_h1_title": false,
   "title_cell": "Table of Contents",
   "title_sidebar": "Contents",
   "toc_cell": false,
   "toc_position": {},
   "toc_section_display": true,
   "toc_window_display": false
  }
 },
 "nbformat": 4,
 "nbformat_minor": 5
}
