{
 "cells": [
  {
   "cell_type": "markdown",
   "metadata": {},
   "source": [
    "# HW03: Distance and Topic Model"
   ]
  },
  {
   "cell_type": "markdown",
   "metadata": {},
   "source": [
    "Remember that these homework work as a completion grade. **You can skip one section without losing credit.**"
   ]
  },
  {
   "cell_type": "markdown",
   "metadata": {},
   "source": [
    "## Load and Pre-process Text"
   ]
  },
  {
   "cell_type": "code",
   "execution_count": 2,
   "metadata": {},
   "outputs": [
    {
     "data": {
      "text/html": [
       "<div>\n",
       "<style scoped>\n",
       "    .dataframe tbody tr th:only-of-type {\n",
       "        vertical-align: middle;\n",
       "    }\n",
       "\n",
       "    .dataframe tbody tr th {\n",
       "        vertical-align: top;\n",
       "    }\n",
       "\n",
       "    .dataframe thead th {\n",
       "        text-align: right;\n",
       "    }\n",
       "</style>\n",
       "<table border=\"1\" class=\"dataframe\">\n",
       "  <thead>\n",
       "    <tr style=\"text-align: right;\">\n",
       "      <th></th>\n",
       "      <th>label</th>\n",
       "      <th>title</th>\n",
       "      <th>lead</th>\n",
       "      <th>text</th>\n",
       "    </tr>\n",
       "  </thead>\n",
       "  <tbody>\n",
       "    <tr>\n",
       "      <th>0</th>\n",
       "      <td>business</td>\n",
       "      <td>Carlyle Looks Toward Commercial Aerospace (Reu...</td>\n",
       "      <td>Reuters - Private investment firm Carlyle Grou...</td>\n",
       "      <td>Carlyle Looks Toward Commercial Aerospace (Reu...</td>\n",
       "    </tr>\n",
       "    <tr>\n",
       "      <th>1</th>\n",
       "      <td>business</td>\n",
       "      <td>Oil and Economy Cloud Stocks' Outlook (Reuters)</td>\n",
       "      <td>Reuters - Soaring crude prices plus worries\\ab...</td>\n",
       "      <td>Oil and Economy Cloud Stocks' Outlook (Reuters...</td>\n",
       "    </tr>\n",
       "    <tr>\n",
       "      <th>2</th>\n",
       "      <td>business</td>\n",
       "      <td>Iraq Halts Oil Exports from Main Southern Pipe...</td>\n",
       "      <td>Reuters - Authorities have halted oil export\\f...</td>\n",
       "      <td>Iraq Halts Oil Exports from Main Southern Pipe...</td>\n",
       "    </tr>\n",
       "    <tr>\n",
       "      <th>3</th>\n",
       "      <td>business</td>\n",
       "      <td>Oil prices soar to all-time record, posing new...</td>\n",
       "      <td>AFP - Tearaway world oil prices, toppling reco...</td>\n",
       "      <td>Oil prices soar to all-time record, posing new...</td>\n",
       "    </tr>\n",
       "    <tr>\n",
       "      <th>4</th>\n",
       "      <td>business</td>\n",
       "      <td>Stocks End Up, But Near Year Lows (Reuters)</td>\n",
       "      <td>Reuters - Stocks ended slightly higher on Frid...</td>\n",
       "      <td>Stocks End Up, But Near Year Lows (Reuters) Re...</td>\n",
       "    </tr>\n",
       "  </tbody>\n",
       "</table>\n",
       "</div>"
      ],
      "text/plain": [
       "      label                                              title  \\\n",
       "0  business  Carlyle Looks Toward Commercial Aerospace (Reu...   \n",
       "1  business    Oil and Economy Cloud Stocks' Outlook (Reuters)   \n",
       "2  business  Iraq Halts Oil Exports from Main Southern Pipe...   \n",
       "3  business  Oil prices soar to all-time record, posing new...   \n",
       "4  business        Stocks End Up, But Near Year Lows (Reuters)   \n",
       "\n",
       "                                                lead  \\\n",
       "0  Reuters - Private investment firm Carlyle Grou...   \n",
       "1  Reuters - Soaring crude prices plus worries\\ab...   \n",
       "2  Reuters - Authorities have halted oil export\\f...   \n",
       "3  AFP - Tearaway world oil prices, toppling reco...   \n",
       "4  Reuters - Stocks ended slightly higher on Frid...   \n",
       "\n",
       "                                                text  \n",
       "0  Carlyle Looks Toward Commercial Aerospace (Reu...  \n",
       "1  Oil and Economy Cloud Stocks' Outlook (Reuters...  \n",
       "2  Iraq Halts Oil Exports from Main Southern Pipe...  \n",
       "3  Oil prices soar to all-time record, posing new...  \n",
       "4  Stocks End Up, But Near Year Lows (Reuters) Re...  "
      ]
     },
     "execution_count": 2,
     "metadata": {},
     "output_type": "execute_result"
    }
   ],
   "source": [
    "#Import the AG news dataset (same as hw01)\n",
    "#Download them from here \n",
    "#!wget https://raw.githubusercontent.com/mhjabreel/CharCnn_Keras/master/data/ag_news_csv/train.csv\n",
    "\n",
    "import pandas as pd\n",
    "import nltk\n",
    "df = pd.read_csv('train.csv')\n",
    "\n",
    "df.columns = [\"label\", \"title\", \"lead\"]\n",
    "label_map = {1:\"world\", 2:\"sport\", 3:\"business\", 4:\"sci/tech\"}\n",
    "def replace_label(x):\n",
    "\treturn label_map[x]\n",
    "df[\"label\"] = df[\"label\"].apply(replace_label) \n",
    "df[\"text\"] = df[\"title\"] + \" \" + df[\"lead\"]\n",
    "df.head()"
   ]
  },
  {
   "cell_type": "code",
   "execution_count": 3,
   "metadata": {},
   "outputs": [
    {
     "name": "stderr",
     "output_type": "stream",
     "text": [
      "/home/felix/miniconda3/envs/nlp_lss/lib/python3.8/site-packages/tqdm/auto.py:22: TqdmWarning: IProgress not found. Please update jupyter and ipywidgets. See https://ipywidgets.readthedocs.io/en/stable/user_install.html\n",
      "  from .autonotebook import tqdm as notebook_tqdm\n"
     ]
    },
    {
     "name": "stdout",
     "output_type": "stream",
     "text": [
      "100889    UN probes reports of Rwanda attacks United Nat...\n",
      "38689     The passion of the athlete Shawn Green is a vi...\n",
      "43042     Cell phone talker's arrest stirs etiquette deb...\n",
      "31200     Do You Deserve More Credit? Sometimes you shou...\n",
      "100950    BAR stops Davidson #39;s Williams test Motorsp...\n",
      "Name: text, dtype: object\n",
      "100889    un probe report rwanda attack united nations o...\n",
      "38689     passion athlete shawn green vital player los a...\n",
      "43042     cell phone talker arrest stir etiquette debate...\n",
      "31200                deserve credit lender give room spend \n",
      "100950    bar stop davidson 39;s williams test motorspor...\n",
      "Name: toks, dtype: object\n",
      "X has shape (200, 2371)\n"
     ]
    }
   ],
   "source": [
    "import spacy\n",
    "nlp = spacy.load('en_core_web_sm')\n",
    "from sklearn.feature_extraction.text import CountVectorizer\n",
    "\n",
    "# text sample\n",
    "dfs = df.sample(200)\n",
    "print(dfs[\"text\"].head())\n",
    "\n",
    "##TODO pre-process text as you did in HW02\n",
    "def tokenize(str):\n",
    "    new_str = ''\n",
    "    for w in nlp(str):\n",
    "        if not w.is_stop and not w.is_punct and not w.is_digit:\n",
    "            new_str += w.lemma_.lower() + ' ' \n",
    "    return new_str\n",
    "\n",
    "dfs[\"toks\"] = dfs[\"text\"].apply(tokenize)\n",
    "print(dfs[\"toks\"].head())\n",
    "\n",
    "##TODO vectorize the pre-processed text using CountVectorizer\n",
    "vectorizer = CountVectorizer()\n",
    "X = vectorizer.fit_transform(dfs[\"toks\"])\n",
    "print(f'X has shape {X.shape}')\n"
   ]
  },
  {
   "cell_type": "markdown",
   "metadata": {},
   "source": [
    "## Cosine Similarity and PCA"
   ]
  },
  {
   "cell_type": "code",
   "execution_count": 4,
   "metadata": {},
   "outputs": [
    {
     "name": "stdout",
     "output_type": "stream",
     "text": [
      "sim has shape (200, 200)\n",
      "\n",
      "Most similar snippets to first snippet:\n",
      "UN probes reports of Rwanda attacks United Nations officials are investigating reports that Hutu extremists have attacked Rwandan villages from bases in eastern Congo.\n",
      "\n",
      "##########################################\n",
      "\n",
      "1. with 0.13655775 similarity:\n",
      "Report: Symantec in talks to acquire Veritas Software Symantec Corp. #39;s reported interest in acquiring Veritas Software Corp. for more than \\$13 billion would represent the computer security giant #39;s biggest step yet beyond its core \n",
      "\n",
      "##########################################\n",
      "\n",
      "2. with 0.13159034 similarity:\n",
      "Merck knew of Vioxx health risks: report WHITEHOUSE STATION, NJ - Merck and Co. shares fell more than 10 per cent in trading on the NYSE on Monday amid reports that company documents showed the pharmaceutical firm knew for years about health issues related to its arthritis drug Vioxx.\n",
      "\n",
      "##########################################\n",
      "\n",
      "3. with 0.11487594 similarity:\n",
      "Annan Calls for End to Civil War in Sudan The United Nations (UN) Secretary-General Kofi Annan called for the civil war in the south of Sudan to be halted as soon as possible.\n"
     ]
    }
   ],
   "source": [
    "from sklearn.metrics.pairwise import cosine_similarity\n",
    "import numpy as np\n",
    "\n",
    "##TODO compute the cosine similarity for the first 200 snippets \n",
    "# and for the first snippet, show the three most similar snippets \n",
    "# and their respective cosine similarity scores\n",
    "\n",
    "# compute cosine similarity\n",
    "sim = cosine_similarity(X[:200, :])\n",
    "print(f'sim has shape {sim.shape}\\n')\n",
    "\n",
    "# get first snipped\n",
    "print(f\"Most similar snippets to first snippet:\\n{dfs['text'].iloc[0]}\")\n",
    "\n",
    "# iterate by similariy\n",
    "order = np.flip(sim[0, 0:].argsort(0))\n",
    "for rank, snip_idx in enumerate(order[1:4], 1):\n",
    "    snip_sim = sim[0, snip_idx]\n",
    "    snip = dfs['text'].iloc[snip_idx]\n",
    "\n",
    "    print(\"\\n##########################################\\n\")\n",
    "    print(\"{}. with {:.8f} similarity:\\n{}\".format(rank, snip_sim, snip))\n"
   ]
  },
  {
   "cell_type": "code",
   "execution_count": 5,
   "metadata": {},
   "outputs": [
    {
     "name": "stdout",
     "output_type": "stream",
     "text": [
      "PCA variance explained: 6.997%\n",
      "sim has shape (200, 200)\n",
      "\n",
      "Most similar snippets to first snippet:\n",
      "UN probes reports of Rwanda attacks United Nations officials are investigating reports that Hutu extremists have attacked Rwandan villages from bases in eastern Congo.\n",
      "\n",
      "##########################################\n",
      "\n",
      "1. with 0.99899568 similarity:\n",
      "GDP Up, But Not Enough for Economists  WASHINGTON (Reuters) - U.S. consumers fed a pick-up in U.S.  economic growth in the third quarter but a sentiment survey for  this month showed oil prices were dampening their spirits,  government and private-sector data showed on Friday.\n",
      "\n",
      "##########################################\n",
      "\n",
      "2. with 0.99850447 similarity:\n",
      "Cirrus Logic to Lay Off Workers Cirrus Logic Inc., a maker of microchips for consumer electronics, on Wednesday said it will lay off 7 percent of its employees to save \\$2 million to \\$3 million per quarter, with expense reductions starting in its third quarter.\n",
      "\n",
      "##########################################\n",
      "\n",
      "3. with 0.99839385 similarity:\n",
      "Oil Holds Near \\$50  LONDON (Reuters) - Oil prices held close to \\$50 a barrel on  Wednesday ahead of U.S. inventory data that is expected to show  tighter supplies in the world's biggest oil consumer as a  result of Hurricane Ivan.\n"
     ]
    }
   ],
   "source": [
    "from sklearn.decomposition import PCA,TruncatedSVD\n",
    "\n",
    "#pca = PCA(n_components=3, svd_solver='randomized') <- this doesn't work?!\n",
    "pca = TruncatedSVD(n_components=3, algorithm='randomized')\n",
    "\n",
    "##TODO reduce the vectorized data using PCA\n",
    "X_pca = pca.fit_transform(X)\n",
    "print(\"PCA variance explained: {:.3f}%\".format(np.sum(pca.explained_variance_ratio_)*100))\n",
    "\n",
    "##TODO compute again cosine similarity with the reduced version for the first 200 snippets\n",
    "sim = cosine_similarity(X_pca[:200, :])\n",
    "print(f'sim has shape {sim.shape}\\n')\n",
    "\n",
    "##TODO for the first snippet, show again its three most similar snippets\n",
    "print(f\"Most similar snippets to first snippet:\\n{dfs['text'].iloc[0]}\")\n",
    "\n",
    "# iterate by similariy\n",
    "order = np.flip(sim[0, 0:].argsort(0))\n",
    "for rank, snip_idx in enumerate(order[1:4], 1):\n",
    "    snip_sim = sim[0, snip_idx]\n",
    "    snip = dfs['text'].iloc[snip_idx]\n",
    "\n",
    "    print(\"\\n##########################################\\n\")\n",
    "    print(\"{}. with {:.8f} similarity:\\n{}\".format(rank, snip_sim, snip))"
   ]
  },
  {
   "cell_type": "markdown",
   "metadata": {},
   "source": [
    "Compare the cosine similarity before and after PCA reduction. Did the results change? "
   ]
  },
  {
   "cell_type": "code",
   "execution_count": 6,
   "id": "034b7a5d",
   "metadata": {},
   "outputs": [],
   "source": [
    "# The variance explained is very low and the similarity did change by a large \n",
    "# amount. All snippets have high similarity and the order is not preserved."
   ]
  },
  {
   "cell_type": "markdown",
   "metadata": {},
   "source": [
    "## Clustering"
   ]
  },
  {
   "cell_type": "code",
   "execution_count": 18,
   "metadata": {},
   "outputs": [
    {
     "name": "stdout",
     "output_type": "stream",
     "text": [
      "51062    Bush Asks Another  #36;691M in Hurricane Aid (...\n",
      "96494    Congress Blocks Net Connection Taxation (AP) A...\n",
      "70867    Bush, Kerry, Parties Spending  #36;40M on Ads ...\n",
      "29285    U.S. Mint to Unveil New Nickel Designs (AP) AP...\n",
      "16055    Schwarzenegger Lauds Bush on Terror Fight (AP)...\n",
      "Name: text, dtype: object\n",
      "Cluster histogram\n"
     ]
    },
    {
     "data": {
      "image/png": "[encoded data removed]",
      "text/plain": [
       "<Figure size 432x288 with 1 Axes>"
      ]
     },
     "metadata": {
      "needs_background": "light"
     },
     "output_type": "display_data"
    },
    {
     "name": "stderr",
     "output_type": "stream",
     "text": [
      "100%|██████████| 48/48 [00:41<00:00,  1.15it/s]\n"
     ]
    },
    {
     "name": "stdout",
     "output_type": "stream",
     "text": [
      "Silhoutte scores:\n"
     ]
    },
    {
     "data": {
      "image/png": "[encoded data removed]",
      "text/plain": [
       "<Figure size 432x288 with 1 Axes>"
      ]
     },
     "metadata": {
      "needs_background": "light"
     },
     "output_type": "display_data"
    }
   ],
   "source": [
    "from sklearn.cluster import KMeans\n",
    "from sklearn.metrics import silhouette_score\n",
    "from matplotlib import pyplot as plt\n",
    "from tqdm import tqdm\n",
    "\n",
    "##TODO create the clusters found with k-means clustering nd 10 clusters\n",
    "km = KMeans(n_clusters=10).fit(X)\n",
    "dfs['cluster'] = km.labels_.tolist()\n",
    "print(dfs[dfs['cluster']==0]['text'].head())\n",
    "\n",
    "\n",
    "print(\"Cluster histogram\")\n",
    "plt.hist(km.labels_.tolist())\n",
    "plt.show()\n",
    "\n",
    "##TODO find the optimal number of clusters in a range from 2 to 50 using the silhouette score\n",
    "sil_scores = []\n",
    "for n in tqdm(range(2, 50)):\n",
    "    km = KMeans(n_clusters=n).fit(X)\n",
    "    sil_scores.append(silhouette_score(X, km.labels_))\n",
    "\n",
    "print(\"Silhoutte scores:\")\n",
    "plt.plot(sil_scores)\n",
    "plt.show()\n"
   ]
  },
  {
   "cell_type": "code",
   "execution_count": 24,
   "metadata": {},
   "outputs": [
    {
     "name": "stdout",
     "output_type": "stream",
     "text": [
      "opt_sil_score: 0.028316512345661522\n",
      "opt_n_clusters 14\n",
      "38689    The passion of the athlete Shawn Green is a vi...\n",
      "6103     NL Wrap: Green Homers Lift Los Angeles Past At...\n",
      "Name: text, dtype: object\n",
      "Cluster histogram\n"
     ]
    },
    {
     "data": {
      "image/png": "[encoded data removed]",
      "text/plain": [
       "<Figure size 432x288 with 1 Axes>"
      ]
     },
     "metadata": {
      "needs_background": "light"
     },
     "output_type": "display_data"
    }
   ],
   "source": [
    "##TODO create the clusters using the opitmal number of clusters obtained before\n",
    "opt_sil_score = max(sil_scores[3:])\n",
    "opt_n_clusters = 2 + sil_scores.index(opt_sil_score)\n",
    "print(f\"opt_sil_score: {opt_sil_score}\")\n",
    "print(f\"opt_n_clusters {opt_n_clusters}\")\n",
    "\n",
    "##TODO compare the documents in cluster \"1\" under the two specifications, does the cluster look cleaner after having searched for the optimal number of clusters?\n",
    "km = KMeans(n_clusters=opt_n_clusters).fit(X)\n",
    "dfs['cluster'] = km.labels_.tolist()\n",
    "print(dfs[dfs['cluster']==0]['text'].head())\n",
    "\n",
    "\n",
    "print(\"Cluster histogram\")\n",
    "plt.hist(km.labels_.tolist())\n",
    "plt.show()"
   ]
  },
  {
   "cell_type": "code",
   "execution_count": null,
   "id": "2e007eb3",
   "metadata": {},
   "outputs": [],
   "source": [
    "# It doesn't seem to make a lot more sense.. still very imbalanced clusters.\n",
    "# Probably also due to very similar (low) shilouette scores for all num_clusters"
   ]
  },
  {
   "cell_type": "markdown",
   "metadata": {},
   "source": [
    "## Topic Modeling: LDA"
   ]
  },
  {
   "cell_type": "markdown",
   "metadata": {},
   "source": [
    "For this part you will need to use LDA Mallet. If you cannot have Mallet run, you can use the simple LDA algorithm "
   ]
  },
  {
   "cell_type": "code",
   "execution_count": null,
   "id": "8aeebf14",
   "metadata": {},
   "outputs": [],
   "source": []
  },
  {
   "cell_type": "code",
   "execution_count": 36,
   "metadata": {},
   "outputs": [
    {
     "ename": "TypeError",
     "evalue": "doc2bow expects an array of unicode tokens on input, not a single string",
     "output_type": "error",
     "traceback": [
      "\u001b[0;31m---------------------------------------------------------------------------\u001b[0m",
      "\u001b[0;31mTypeError\u001b[0m                                 Traceback (most recent call last)",
      "Input \u001b[0;32mIn [36]\u001b[0m, in \u001b[0;36m<module>\u001b[0;34m\u001b[0m\n\u001b[1;32m     14\u001b[0m \u001b[38;5;28;01mfor\u001b[39;00m doc \u001b[38;5;129;01min\u001b[39;00m dfs[\u001b[38;5;124m'\u001b[39m\u001b[38;5;124mtext\u001b[39m\u001b[38;5;124m'\u001b[39m]:\n\u001b[1;32m     15\u001b[0m     doc_clean\u001b[38;5;241m.\u001b[39mappend(tokenize(doc))\n\u001b[0;32m---> 17\u001b[0m dictionary \u001b[38;5;241m=\u001b[39m \u001b[43mcorpora\u001b[49m\u001b[38;5;241;43m.\u001b[39;49m\u001b[43mDictionary\u001b[49m\u001b[43m(\u001b[49m\u001b[43mdfs\u001b[49m\u001b[43m[\u001b[49m\u001b[38;5;124;43m'\u001b[39;49m\u001b[38;5;124;43mtoks\u001b[39;49m\u001b[38;5;124;43m'\u001b[39;49m\u001b[43m]\u001b[49m\u001b[43m)\u001b[49m\n\u001b[1;32m     18\u001b[0m dictionary\u001b[38;5;241m.\u001b[39mfilter_extremes(no_below\u001b[38;5;241m=\u001b[39m\u001b[38;5;241m10\u001b[39m, keep_n\u001b[38;5;241m=\u001b[39m\u001b[38;5;241m1000\u001b[39m)\n\u001b[1;32m     19\u001b[0m \u001b[38;5;28mprint\u001b[39m(\u001b[38;5;28mlen\u001b[39m(dictionary))\n",
      "File \u001b[0;32m~/miniconda3/envs/nlp_lss/lib/python3.8/site-packages/gensim/corpora/dictionary.py:78\u001b[0m, in \u001b[0;36mDictionary.__init__\u001b[0;34m(self, documents, prune_at)\u001b[0m\n\u001b[1;32m     75\u001b[0m \u001b[38;5;28mself\u001b[39m\u001b[38;5;241m.\u001b[39mnum_nnz \u001b[38;5;241m=\u001b[39m \u001b[38;5;241m0\u001b[39m\n\u001b[1;32m     77\u001b[0m \u001b[38;5;28;01mif\u001b[39;00m documents \u001b[38;5;129;01mis\u001b[39;00m \u001b[38;5;129;01mnot\u001b[39;00m \u001b[38;5;28;01mNone\u001b[39;00m:\n\u001b[0;32m---> 78\u001b[0m     \u001b[38;5;28;43mself\u001b[39;49m\u001b[38;5;241;43m.\u001b[39;49m\u001b[43madd_documents\u001b[49m\u001b[43m(\u001b[49m\u001b[43mdocuments\u001b[49m\u001b[43m,\u001b[49m\u001b[43m \u001b[49m\u001b[43mprune_at\u001b[49m\u001b[38;5;241;43m=\u001b[39;49m\u001b[43mprune_at\u001b[49m\u001b[43m)\u001b[49m\n\u001b[1;32m     79\u001b[0m     \u001b[38;5;28mself\u001b[39m\u001b[38;5;241m.\u001b[39madd_lifecycle_event(\n\u001b[1;32m     80\u001b[0m         \u001b[38;5;124m\"\u001b[39m\u001b[38;5;124mcreated\u001b[39m\u001b[38;5;124m\"\u001b[39m,\n\u001b[1;32m     81\u001b[0m         msg\u001b[38;5;241m=\u001b[39m\u001b[38;5;124mf\u001b[39m\u001b[38;5;124m\"\u001b[39m\u001b[38;5;124mbuilt \u001b[39m\u001b[38;5;132;01m{\u001b[39;00m\u001b[38;5;28mself\u001b[39m\u001b[38;5;132;01m}\u001b[39;00m\u001b[38;5;124m from \u001b[39m\u001b[38;5;132;01m{\u001b[39;00m\u001b[38;5;28mself\u001b[39m\u001b[38;5;241m.\u001b[39mnum_docs\u001b[38;5;132;01m}\u001b[39;00m\u001b[38;5;124m documents (total \u001b[39m\u001b[38;5;132;01m{\u001b[39;00m\u001b[38;5;28mself\u001b[39m\u001b[38;5;241m.\u001b[39mnum_pos\u001b[38;5;132;01m}\u001b[39;00m\u001b[38;5;124m corpus positions)\u001b[39m\u001b[38;5;124m\"\u001b[39m,\n\u001b[1;32m     82\u001b[0m     )\n",
      "File \u001b[0;32m~/miniconda3/envs/nlp_lss/lib/python3.8/site-packages/gensim/corpora/dictionary.py:202\u001b[0m, in \u001b[0;36mDictionary.add_documents\u001b[0;34m(self, documents, prune_at)\u001b[0m\n\u001b[1;32m    199\u001b[0m         logger\u001b[38;5;241m.\u001b[39minfo(\u001b[38;5;124m\"\u001b[39m\u001b[38;5;124madding document #\u001b[39m\u001b[38;5;132;01m%i\u001b[39;00m\u001b[38;5;124m to \u001b[39m\u001b[38;5;132;01m%s\u001b[39;00m\u001b[38;5;124m\"\u001b[39m, docno, \u001b[38;5;28mself\u001b[39m)\n\u001b[1;32m    201\u001b[0m     \u001b[38;5;66;03m# update Dictionary with the document\u001b[39;00m\n\u001b[0;32m--> 202\u001b[0m     \u001b[38;5;28;43mself\u001b[39;49m\u001b[38;5;241;43m.\u001b[39;49m\u001b[43mdoc2bow\u001b[49m\u001b[43m(\u001b[49m\u001b[43mdocument\u001b[49m\u001b[43m,\u001b[49m\u001b[43m \u001b[49m\u001b[43mallow_update\u001b[49m\u001b[38;5;241;43m=\u001b[39;49m\u001b[38;5;28;43;01mTrue\u001b[39;49;00m\u001b[43m)\u001b[49m  \u001b[38;5;66;03m# ignore the result, here we only care about updating token ids\u001b[39;00m\n\u001b[1;32m    204\u001b[0m logger\u001b[38;5;241m.\u001b[39minfo(\u001b[38;5;124m\"\u001b[39m\u001b[38;5;124mbuilt \u001b[39m\u001b[38;5;132;01m%s\u001b[39;00m\u001b[38;5;124m from \u001b[39m\u001b[38;5;132;01m%i\u001b[39;00m\u001b[38;5;124m documents (total \u001b[39m\u001b[38;5;132;01m%i\u001b[39;00m\u001b[38;5;124m corpus positions)\u001b[39m\u001b[38;5;124m\"\u001b[39m, \u001b[38;5;28mself\u001b[39m, \u001b[38;5;28mself\u001b[39m\u001b[38;5;241m.\u001b[39mnum_docs, \u001b[38;5;28mself\u001b[39m\u001b[38;5;241m.\u001b[39mnum_pos)\n",
      "File \u001b[0;32m~/miniconda3/envs/nlp_lss/lib/python3.8/site-packages/gensim/corpora/dictionary.py:239\u001b[0m, in \u001b[0;36mDictionary.doc2bow\u001b[0;34m(self, document, allow_update, return_missing)\u001b[0m\n\u001b[1;32m    207\u001b[0m \u001b[38;5;124;03m\"\"\"Convert `document` into the bag-of-words (BoW) format = list of `(token_id, token_count)` tuples.\u001b[39;00m\n\u001b[1;32m    208\u001b[0m \n\u001b[1;32m    209\u001b[0m \u001b[38;5;124;03mParameters\u001b[39;00m\n\u001b[0;32m   (...)\u001b[0m\n\u001b[1;32m    236\u001b[0m \n\u001b[1;32m    237\u001b[0m \u001b[38;5;124;03m\"\"\"\u001b[39;00m\n\u001b[1;32m    238\u001b[0m \u001b[38;5;28;01mif\u001b[39;00m \u001b[38;5;28misinstance\u001b[39m(document, \u001b[38;5;28mstr\u001b[39m):\n\u001b[0;32m--> 239\u001b[0m     \u001b[38;5;28;01mraise\u001b[39;00m \u001b[38;5;167;01mTypeError\u001b[39;00m(\u001b[38;5;124m\"\u001b[39m\u001b[38;5;124mdoc2bow expects an array of unicode tokens on input, not a single string\u001b[39m\u001b[38;5;124m\"\u001b[39m)\n\u001b[1;32m    241\u001b[0m \u001b[38;5;66;03m# Construct (word, frequency) mapping.\u001b[39;00m\n\u001b[1;32m    242\u001b[0m counter \u001b[38;5;241m=\u001b[39m defaultdict(\u001b[38;5;28mint\u001b[39m)\n",
      "\u001b[0;31mTypeError\u001b[0m: doc2bow expects an array of unicode tokens on input, not a single string"
     ]
    }
   ],
   "source": [
    "from gensim.corpora import Dictionary\n",
    "#from gensim.models.wrappers import LdaMallet\n",
    "from gensim.models import ldamodel\n",
    "from gensim import corpora\n",
    "from gensim.models.coherencemodel import CoherenceModel\n",
    "\n",
    "##TODO create a dictionary with the pre-processed tokenized text and filter it according to frequencies and keeping 1000 vocabularies\n",
    "\n",
    "def tokenize(x):\n",
    "    # lemmatize and lowercase without stopwords, punctuation and numbers\n",
    "    return [w.lemma_.lower() for w in nlp(x) if not w.is_stop and not w.is_punct and not w.is_digit and len(w) > 2]\n",
    "\n",
    "doc_clean = []\n",
    "for doc in dfs['text']:\n",
    "    doc_clean.append(tokenize(doc))\n",
    "\n",
    "dictionary = corpora.Dictionary(dfs['toks'])\n",
    "dictionary.filter_extremes(no_below=10, keep_n=1000)\n",
    "print(len(dictionary))\n",
    "\n",
    "##TODO create the doc_term_matrix\n",
    "doc_term_matrix = [dictionary.doc2bow(doc) for doc in doc_clean]\n"
   ]
  },
  {
   "cell_type": "code",
   "execution_count": null,
   "metadata": {},
   "outputs": [],
   "source": [
    "##TODO train a LDA Mallet model with 5, 10 and 15 topics\n",
    "##TODO compute the coherence score for each of these model and print the topics from the model with highest coherence score"
   ]
  },
  {
   "cell_type": "code",
   "execution_count": null,
   "metadata": {},
   "outputs": [],
   "source": [
    "import pyLDAvis.gensim\n",
    "##TODO using LDAvis visualize the topics using the optimal number of topics"
   ]
  }
 ],
 "metadata": {
  "kernelspec": {
   "display_name": "Python 3",
   "language": "python",
   "name": "python3"
  },
  "language_info": {
   "codemirror_mode": {
    "name": "ipython",
    "version": 3
   },
   "file_extension": ".py",
   "mimetype": "text/x-python",
   "name": "python",
   "nbconvert_exporter": "python",
   "pygments_lexer": "ipython3",
   "version": "3.8.12"
  }
 },
 "nbformat": 4,
 "nbformat_minor": 5
}
